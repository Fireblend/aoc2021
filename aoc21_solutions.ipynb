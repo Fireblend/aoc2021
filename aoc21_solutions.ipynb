{
 "cells": [
  {
   "cell_type": "markdown",
   "id": "3c97cf31-5408-4d3e-8492-451b4418b9c4",
   "metadata": {},
   "source": [
    "# Advent of Code 2021\n"
   ]
  },
  {
   "cell_type": "code",
   "execution_count": 5,
   "id": "f6d3ff35-2e22-4731-b9c9-e0f8c1262a2a",
   "metadata": {},
   "outputs": [],
   "source": [
    "def inputForDay(day): \n",
    "    with open(f\"inputs/aoc{day}.txt\") as f:\n",
    "        return f.read()"
   ]
  },
  {
   "cell_type": "markdown",
   "id": "63044fba-c72c-4c15-8c9f-54f58fc55594",
   "metadata": {},
   "source": [
    "---\n",
    "### Day 1 - Part 1"
   ]
  },
  {
   "cell_type": "code",
   "execution_count": 7,
   "id": "f384d375-36a4-4551-9e15-3f34502acaf0",
   "metadata": {},
   "outputs": [
    {
     "data": {
      "text/plain": [
       "1390"
      ]
     },
     "execution_count": 7,
     "metadata": {},
     "output_type": "execute_result"
    }
   ],
   "source": [
    "depths = [int(x) for x in inputForDay(1).split(\"\\n\")]\n",
    "    \n",
    "def countIncreases(nList):\n",
    "    return sum([nList[x]>nList[x-1] for x in range(1, len(nList))])\n",
    "\n",
    "countIncreases(depths)"
   ]
  },
  {
   "cell_type": "markdown",
   "id": "27e486af-9a26-41ea-829c-e6b2bdfbb411",
   "metadata": {},
   "source": [
    "### Day 1 - Part 2"
   ]
  },
  {
   "cell_type": "code",
   "execution_count": 148,
   "id": "8843e14e-6c40-4d92-932f-c64754eb4fe2",
   "metadata": {},
   "outputs": [
    {
     "data": {
      "text/plain": [
       "1457"
      ]
     },
     "execution_count": 148,
     "metadata": {},
     "output_type": "execute_result"
    }
   ],
   "source": [
    "countIncreases([sum(depths[x:x+3]) for x in range(0, len(depths)-2)])"
   ]
  },
  {
   "cell_type": "markdown",
   "id": "5724a689-b5a8-4fa6-9675-24ec1c3e9dd1",
   "metadata": {},
   "source": [
    "---\n",
    "### Day 2 - Part 1"
   ]
  },
  {
   "cell_type": "code",
   "execution_count": 8,
   "id": "6dd05182-72f6-4f60-8907-96961bb3e781",
   "metadata": {},
   "outputs": [
    {
     "data": {
      "text/plain": [
       "1654760"
      ]
     },
     "execution_count": 8,
     "metadata": {},
     "output_type": "execute_result"
    }
   ],
   "source": [
    "commands = [(x.split(\" \")[0], int(x.split(\" \")[1])) for x in inputForDay(2).split(\"\\n\")]\n",
    "    \n",
    "loc = [0,0]\n",
    "directions = {\"forward\":(1,0), \"down\":(0,1), \"up\":(0,-1)}\n",
    "\n",
    "for c,a in commands:\n",
    "    for d in (0,1):\n",
    "        loc[d] += directions[c][d]*a\n",
    "\n",
    "loc[0]*loc[1]"
   ]
  },
  {
   "cell_type": "markdown",
   "id": "3f9c90ad-0b6c-4cae-a86d-7db2d17d3bc3",
   "metadata": {},
   "source": [
    "### Day 2 - Part 2"
   ]
  },
  {
   "cell_type": "code",
   "execution_count": 150,
   "id": "cc57ef4c-1eaf-4bc5-bd8b-225b8a9778b5",
   "metadata": {},
   "outputs": [
    {
     "data": {
      "text/plain": [
       "1956047400"
      ]
     },
     "execution_count": 150,
     "metadata": {},
     "output_type": "execute_result"
    }
   ],
   "source": [
    "loc = [0,0]\n",
    "aim = 0\n",
    "\n",
    "for c,a in commands:\n",
    "    if c == \"forward\":\n",
    "        loc[0] += a\n",
    "        loc[1] += a*aim\n",
    "        continue\n",
    "    aim += a if c == \"down\" else -a\n",
    "\n",
    "loc[0]*loc[1]"
   ]
  },
  {
   "cell_type": "markdown",
   "id": "080724f2-370e-4da0-a273-767f09757ad4",
   "metadata": {},
   "source": [
    "---\n",
    "### Day 3 - Part 1"
   ]
  },
  {
   "cell_type": "code",
   "execution_count": 9,
   "id": "ea64ea0d-5aa9-4294-b598-3df335da4545",
   "metadata": {},
   "outputs": [
    {
     "data": {
      "text/plain": [
       "4191876"
      ]
     },
     "execution_count": 9,
     "metadata": {},
     "output_type": "execute_result"
    }
   ],
   "source": [
    "import pandas as pd\n",
    "\n",
    "info_df = pd.DataFrame([list(x) for x in inputForDay(3).split(\"\\n\")])\n",
    "    \n",
    "g = \"\".join([info_df[col].mode()[0] for col in info_df.columns])\n",
    "e = \"\".join(['0' if x == \"1\" else \"1\" for x in g])\n",
    "\n",
    "int(g,2)*int(e,2)"
   ]
  },
  {
   "cell_type": "markdown",
   "id": "abff33f3-9b8b-4d5f-87af-7f846c93d7d1",
   "metadata": {},
   "source": [
    "### Day 3 - Part 2"
   ]
  },
  {
   "cell_type": "code",
   "execution_count": 10,
   "id": "f426e31a-a808-41db-8c98-d1f6cdf3e888",
   "metadata": {},
   "outputs": [
    {
     "data": {
      "text/plain": [
       "3414905"
      ]
     },
     "execution_count": 10,
     "metadata": {},
     "output_type": "execute_result"
    }
   ],
   "source": [
    "ox = co = info_df\n",
    "\n",
    "def isTied(df, pos): return df[pos].value_counts()[0] == len(df)/2\n",
    "\n",
    "for pos in info_df.columns:\n",
    "    if(len(ox) != 1): ox = ox[ox[pos] == ('1' if isTied(ox, pos) else ox[pos].mode()[0])]\n",
    "    if(len(co) != 1): co = co[co[pos] == ('0' if isTied(co, pos) else '1' if co[pos].mode()[0] == '0' else '0')]\n",
    "    \n",
    "int(\"\".join(list(ox.values[0])),2)*int(\"\".join(list(co.values[0])),2)"
   ]
  },
  {
   "cell_type": "markdown",
   "id": "8818f44b-79f9-45c5-8c06-aedd8f2f865d",
   "metadata": {},
   "source": [
    "---\n",
    "### Day 4 - Part 1"
   ]
  },
  {
   "cell_type": "code",
   "execution_count": 11,
   "id": "b978afa0-17e8-422c-abd9-6fe215164b86",
   "metadata": {},
   "outputs": [
    {
     "data": {
      "text/plain": [
       "16674.0"
      ]
     },
     "execution_count": 11,
     "metadata": {},
     "output_type": "execute_result"
    }
   ],
   "source": [
    "lines = inputForDay(4).split(\"\\n\\n\")\n",
    "    \n",
    "nums = [int(x) for x in lines[0].split(',')]\n",
    "boards = [line.split(\"\\n\") for line in lines[1:]]\n",
    "\n",
    "def checkBingo(nums, boards, findLast = False):\n",
    "    won = []\n",
    "    boardMasks = []\n",
    "    \n",
    "    for x in range(len(boards)):\n",
    "        boards[x] = pd.DataFrame([x.split() for x in boards[x]])\n",
    "        boards[x] = boards[x].apply(pd.to_numeric, downcast='integer')\n",
    "        boardMasks.append(boards[x] == -1)\n",
    "    \n",
    "    for n in nums:\n",
    "        newMasks = []\n",
    "        for i in range(len(boards)):\n",
    "            board = boards[i]\n",
    "            mask = boardMasks[i]\n",
    "            if i in won: \n",
    "                newMasks.append(mask)\n",
    "                continue\n",
    "            \n",
    "            newMasks.append(mask | (board == n))\n",
    "            \n",
    "            if newMasks[i].sum(axis=0).max() == 5 or newMasks[i].sum(axis=1).max() == 5:\n",
    "                if len(won) < len(boards)-1 and findLast:\n",
    "                    won.append(i)\n",
    "                else:\n",
    "                    return board, newMasks[i], n\n",
    "        boardMasks = newMasks\n",
    "\n",
    "winBoard, winMask, num = checkBingo(nums, boards)\n",
    "winBoard[-winMask].sum().sum() * num"
   ]
  },
  {
   "cell_type": "markdown",
   "id": "3b8ac111-b2bd-47d9-a776-f4f543806afb",
   "metadata": {},
   "source": [
    "### Day 4 - Part 2"
   ]
  },
  {
   "cell_type": "code",
   "execution_count": 12,
   "id": "d6edf161-0d27-41fd-9684-2585a990aac5",
   "metadata": {},
   "outputs": [
    {
     "data": {
      "text/plain": [
       "7075.0"
      ]
     },
     "execution_count": 12,
     "metadata": {},
     "output_type": "execute_result"
    }
   ],
   "source": [
    "nums = [int(x) for x in lines[0].split(',')]\n",
    "boards = [line.split(\"\\n\") for line in lines[1:]]\n",
    "\n",
    "winBoard, winMask, num = checkBingo(nums, boards, findLast=True)\n",
    "winBoard[-winMask].sum().sum() * num"
   ]
  },
  {
   "cell_type": "markdown",
   "id": "37bccbe3-db68-41ad-86de-7e09e1d250a7",
   "metadata": {},
   "source": [
    "---\n",
    "### Day 5 - Part 1"
   ]
  },
  {
   "cell_type": "code",
   "execution_count": 13,
   "id": "97829959-7973-4e18-8b0f-7666c6767560",
   "metadata": {},
   "outputs": [
    {
     "data": {
      "text/plain": [
       "5084"
      ]
     },
     "execution_count": 13,
     "metadata": {},
     "output_type": "execute_result"
    }
   ],
   "source": [
    "from collections import defaultdict\n",
    "\n",
    "lines = [(x.split(\" -> \")[0].split(\",\"), x.split(\" -> \")[1].split(\",\")) for x in inputForDay(5).split(\"\\n\")]\n",
    "    \n",
    "def findIntersections(lines, diagonals=False):\n",
    "    locations = defaultdict(lambda: 0)\n",
    "\n",
    "    for a, b in lines:\n",
    "        if a[1] != b[1] and a[0] != b[0]: \n",
    "            if diagonals: locations = handleDiag(a, b, locations)\n",
    "            continue\n",
    "\n",
    "        horizontal = True if a[1] == b[1] else False\n",
    "        static = a[1] if horizontal else a[0]\n",
    "        points = [a[0],b[0]] if horizontal else [a[1],b[1]]\n",
    "        if int(points[1]) < int(points[0]): points = [points[1],points[0]]\n",
    "\n",
    "        for n in range(int(points[0]), int(points[1])+1):\n",
    "            loc = [str(n), static] if horizontal else [static, str(n)]\n",
    "            locations[\",\".join(loc)] += 1\n",
    "    return locations\n",
    "\n",
    "locations = findIntersections(lines)\n",
    "len([l for l in locations.keys() if locations[l] > 1])"
   ]
  },
  {
   "cell_type": "markdown",
   "id": "b88112e3-166a-4ff9-a094-8c5316f7e84d",
   "metadata": {},
   "source": [
    "### Day 5 - Part 2"
   ]
  },
  {
   "cell_type": "code",
   "execution_count": 14,
   "id": "ca0a363d-cdf6-4858-931a-5bb958211294",
   "metadata": {},
   "outputs": [
    {
     "data": {
      "text/plain": [
       "17882"
      ]
     },
     "execution_count": 14,
     "metadata": {},
     "output_type": "execute_result"
    }
   ],
   "source": [
    "def handleDiag(a, b, locations):\n",
    "    modX = 1 if int(a[0]) < int(b[0]) else -1\n",
    "    modY = 1 if int(a[1]) < int(b[1]) else -1\n",
    "    locsX = range(int(a[0]), int(b[0])+modX, modX)\n",
    "    locsY = range(int(a[1]), int(b[1])+modY, modY) \n",
    "    for x,y in zip(locsX, locsY): locations[f\"{x},{y}\"] += 1\n",
    "    return locations\n",
    "\n",
    "locations = findIntersections(lines, diagonals=True)\n",
    "len([l for l in locations.keys() if locations[l] > 1])            "
   ]
  },
  {
   "cell_type": "markdown",
   "id": "3e640e8e-da56-4ecf-b9e9-1a3b367fe77b",
   "metadata": {},
   "source": [
    "---\n",
    "### Day 6 - Part 1"
   ]
  },
  {
   "cell_type": "code",
   "execution_count": 15,
   "id": "5733a686-9121-414a-a719-7d7c2413266c",
   "metadata": {},
   "outputs": [
    {
     "data": {
      "text/plain": [
       "351092"
      ]
     },
     "execution_count": 15,
     "metadata": {},
     "output_type": "execute_result"
    }
   ],
   "source": [
    "from collections import defaultdict\n",
    "\n",
    "fish = [int(x) for x in inputForDay(6).split(\",\")]\n",
    "    \n",
    "def modelFish(fish, days):\n",
    "    fishCounts = defaultdict(lambda:0)\n",
    "    for f in fish: fishCounts[f] += 1\n",
    "\n",
    "    for _ in range(days):\n",
    "        for day in range(0, 9): fishCounts[day-1] = fishCounts[day]\n",
    "        fishCounts[6] += fishCounts[-1]\n",
    "        fishCounts[8] = fishCounts[-1]\n",
    "        fishCounts[-1] = 0\n",
    "    \n",
    "    return sum(fishCounts.values())\n",
    "    \n",
    "modelFish(fish, 80)"
   ]
  },
  {
   "cell_type": "markdown",
   "id": "1dedf6b8-82c6-4a92-b786-ebf120398f8f",
   "metadata": {},
   "source": [
    "### Day 6 - Part 2"
   ]
  },
  {
   "cell_type": "code",
   "execution_count": 16,
   "id": "28076e69-a052-4125-8739-9a395fe7b865",
   "metadata": {},
   "outputs": [
    {
     "data": {
      "text/plain": [
       "1595330616005"
      ]
     },
     "execution_count": 16,
     "metadata": {},
     "output_type": "execute_result"
    }
   ],
   "source": [
    "modelFish(fish, 256)"
   ]
  },
  {
   "cell_type": "markdown",
   "id": "cbed04c4-9927-459a-bb7a-16c2a6dd6d28",
   "metadata": {},
   "source": [
    "---\n",
    "### Day 7 - Part 1"
   ]
  },
  {
   "cell_type": "code",
   "execution_count": 17,
   "id": "50af3dff-8b91-4d4c-bf29-9503279e1f5f",
   "metadata": {},
   "outputs": [
    {
     "data": {
      "text/plain": [
       "355764.0"
      ]
     },
     "execution_count": 17,
     "metadata": {},
     "output_type": "execute_result"
    }
   ],
   "source": [
    "import pandas as pd\n",
    "import numpy as np\n",
    "\n",
    "positions = pd.Series([int(x) for x in inputForDay(7).split(\",\")])\n",
    "    \n",
    "(positions - positions.median()).abs().sum()"
   ]
  },
  {
   "cell_type": "markdown",
   "id": "383e6a52-48a4-47d8-b098-1eb2b3beee0e",
   "metadata": {},
   "source": [
    "### Day 7 - Part 2"
   ]
  },
  {
   "cell_type": "code",
   "execution_count": 18,
   "id": "740ca121-7e03-4c8d-bdb3-e68689487685",
   "metadata": {},
   "outputs": [
    {
     "name": "stdout",
     "output_type": "stream",
     "text": [
      "99634572\n",
      "Duration: 0:00:14.416485\n"
     ]
    }
   ],
   "source": [
    "from datetime import datetime\n",
    "start = datetime.now()\n",
    "\n",
    "move_totals = []\n",
    "\n",
    "for target in range(min(positions), max(positions)+1):\n",
    "    moves = [abs(p-target) for p in positions]\n",
    "    moves = [sum(range(1,m+1)) for m in moves]\n",
    "    move_totals.append(sum(moves))\n",
    "\n",
    "print(min(move_totals))\n",
    "print(\"Duration:\", datetime.now()-start)"
   ]
  },
  {
   "cell_type": "markdown",
   "id": "32a9f184-f300-4857-8cca-20c4c466c41d",
   "metadata": {},
   "source": [
    "### Bonus: With Numpy"
   ]
  },
  {
   "cell_type": "code",
   "execution_count": 19,
   "id": "bd200c25-4ee2-45bf-8c07-28f6b7c97e6a",
   "metadata": {},
   "outputs": [
    {
     "name": "stdout",
     "output_type": "stream",
     "text": [
      "99634572.0\n",
      "Duration: 0:00:06.206277\n"
     ]
    }
   ],
   "source": [
    "import numpy as np\n",
    "from datetime import datetime\n",
    "start = datetime.now()\n",
    "\n",
    "positions = np.array([int(x) for x in inputForDay(7).split(\",\")])\n",
    "\n",
    "move_totals = np.array([np.int64(x) for x in range(0)])\n",
    "\n",
    "for target in np.arange(positions.min(), positions.max()+1):\n",
    "    moves = np.abs(positions - target)\n",
    "    getFuelVectorized = np.vectorize(lambda x: np.arange(1,x+1).sum())\n",
    "    moves = getFuelVectorized(moves)\n",
    "    move_totals = np.append(move_totals,moves.sum())\n",
    "\n",
    "print(min(move_totals))\n",
    "print(\"Duration:\", datetime.now()-start)"
   ]
  },
  {
   "cell_type": "markdown",
   "id": "734932c6-5c34-46d0-a2ee-09dbb3c16180",
   "metadata": {},
   "source": [
    "### Bonus: With Numpy + Numba"
   ]
  },
  {
   "cell_type": "code",
   "execution_count": 20,
   "id": "03563c6c-b20b-47a5-ada3-f49993af1e1d",
   "metadata": {},
   "outputs": [
    {
     "name": "stdout",
     "output_type": "stream",
     "text": [
      "99634572\n",
      "Duration: 0:00:02.254793 with compilation\n",
      "99634572\n",
      "Duration: 0:00:00.577456 without compilation\n"
     ]
    }
   ],
   "source": [
    "import numpy as np\n",
    "from numba import jit, vectorize, int64\n",
    "from datetime import datetime\n",
    "start = datetime.now()\n",
    "\n",
    "positions = np.array([int(x) for x in inputForDay(7).split(\",\")])\n",
    "    \n",
    "@vectorize([int64(int64)])\n",
    "def getFuel(x):\n",
    "    return np.arange(1,x+1).sum()\n",
    "\n",
    "@jit(nopython=True)\n",
    "def test(positions):\n",
    "    move_totals = np.array([np.int64(x) for x in range(0)])\n",
    "\n",
    "    for target in np.arange(positions.min(), positions.max()+1):\n",
    "        moves = np.abs(positions - target)\n",
    "        moves = getFuel(moves)\n",
    "        move_totals = np.append(move_totals,moves.sum())\n",
    "\n",
    "    return min(move_totals)\n",
    "\n",
    "print(test(positions))\n",
    "print(\"Duration:\", datetime.now()-start, \"with compilation\")\n",
    "\n",
    "\n",
    "start = datetime.now()\n",
    "print(test(positions))\n",
    "print(\"Duration:\", datetime.now()-start, \"without compilation\")"
   ]
  },
  {
   "cell_type": "markdown",
   "id": "cc1742dc-55e0-4cc2-989d-de15c4be0884",
   "metadata": {},
   "source": [
    "---\n",
    "### Day 8 - Part 1"
   ]
  },
  {
   "cell_type": "code",
   "execution_count": 21,
   "id": "a1c983e6-7537-4144-9af9-397e07a61d36",
   "metadata": {},
   "outputs": [
    {
     "data": {
      "text/plain": [
       "365"
      ]
     },
     "execution_count": 21,
     "metadata": {},
     "output_type": "execute_result"
    }
   ],
   "source": [
    "digit_entries = [[x.split(\"|\")[0].strip().split(\" \"), x.split(\"|\")[1].strip().split(\" \")] for x in inputForDay(8).split(\"\\n\")]\n",
    "\n",
    "total_uniques = 0\n",
    "for _, output in digit_entries:\n",
    "    total_uniques += len([len(x) for x in output if len(x) in [2,4,3,7]])\n",
    "\n",
    "total_uniques"
   ]
  },
  {
   "cell_type": "markdown",
   "id": "beb1220e-f9c3-46eb-933c-4115cad06db7",
   "metadata": {},
   "source": [
    "### Day 8 - Part 2"
   ]
  },
  {
   "cell_type": "code",
   "execution_count": 22,
   "id": "ee2e364a-26a5-4863-b444-a5670b0d053f",
   "metadata": {},
   "outputs": [
    {
     "data": {
      "text/plain": [
       "975706"
      ]
     },
     "execution_count": 22,
     "metadata": {},
     "output_type": "execute_result"
    }
   ],
   "source": [
    "from collections import defaultdict\n",
    "\n",
    "segments = {0:{\"a\",\"b\",\"c\",\"e\",\"f\",\"g\"},\n",
    "            1:{\"c\",\"f\"},\n",
    "            2:{\"a\",\"c\",\"d\",\"e\",\"g\"},\n",
    "            3:{\"a\",\"c\",\"d\",\"f\",\"g\"},\n",
    "            4:{\"b\",\"c\",\"d\",\"f\"},\n",
    "            5:{\"a\",\"b\",\"d\",\"f\",\"g\"},\n",
    "            6:{\"a\",\"b\",\"d\",\"e\",\"f\",\"g\"},\n",
    "            7:{\"a\",\"c\",\"f\"},\n",
    "            8:{\"a\",\"b\",\"c\",\"d\",\"e\",\"f\",\"g\"},\n",
    "            9:{\"a\",\"b\",\"c\",\"d\",\"f\",\"g\"}}\n",
    "\n",
    "unique_appearances = {6:\"b\", 8:\"c\", 4:\"e\", 9:\"f\"}\n",
    "\n",
    "def decodeEntry(entry, output):\n",
    "    translation = {}\n",
    "    entry.sort(key=len)\n",
    "    \n",
    "    translation[list(set(entry[1]).difference(entry[0]))[0]] = \"a\"\n",
    "    \n",
    "    apps = defaultdict(lambda:0)\n",
    "    for seq in [set(x) for x in entry]:\n",
    "        for segment in seq: \n",
    "            if(segment not in translation.keys()):\n",
    "                apps[segment] +=1\n",
    "                \n",
    "    for letter,num_appears in apps.items():\n",
    "        if num_appears in unique_appearances:\n",
    "            translation[letter] = unique_appearances[num_appears]\n",
    "    \n",
    "    zero_eight = []\n",
    "    for seq in [set(x) for x in entry]:\n",
    "        if(len(set(translation.keys()).difference(seq)) == 0):\n",
    "            zero_eight.append(seq)\n",
    "    \n",
    "    zero_eight.sort(key=len)\n",
    "    translation[list(zero_eight[0].difference(set(translation.keys())))[0]] = \"g\"\n",
    "    translation[list(zero_eight[1].difference(zero_eight[0]))[0]] = \"d\"\n",
    "        \n",
    "    return translation\n",
    "    \n",
    "def translate(translation, outputs):\n",
    "    res = 0\n",
    "    for digit, multiplier in zip(outputs, [1000, 100, 10, 1]):\n",
    "        translated = set([translation[x] for x in digit])\n",
    "        for num, combo in segments.items():\n",
    "            if combo == translated:\n",
    "                res += int(num)*multiplier\n",
    "                break\n",
    "    return res\n",
    "\n",
    "total_output = 0\n",
    "for entry, output in digit_entries:\n",
    "    translation = decodeEntry(entry, output)\n",
    "    total_output += translate(translation, output)\n",
    "        \n",
    "total_output"
   ]
  },
  {
   "cell_type": "markdown",
   "id": "813bc70a-80fc-42f7-aa93-c530447671c3",
   "metadata": {},
   "source": [
    "---\n",
    "### Day 9 - Part 1"
   ]
  },
  {
   "cell_type": "code",
   "execution_count": 23,
   "id": "90b5edec-d0cb-4ba2-b04a-58dccfe7a353",
   "metadata": {},
   "outputs": [
    {
     "data": {
      "text/plain": [
       "417"
      ]
     },
     "execution_count": 23,
     "metadata": {},
     "output_type": "execute_result"
    }
   ],
   "source": [
    "heightmap = [[int(y) for y in list(x)] for x in inputForDay(9).split(\"\\n\")]\n",
    "\n",
    "def getAdjacentLocs(hmap,x,y):\n",
    "    vals = []\n",
    "    if x-1 != -1: vals.append([x-1,y])\n",
    "    if x+1 != len(hmap): vals.append([x+1,y])\n",
    "    if y+1 != len(hmap[0]): vals.append([x,y+1]) \n",
    "    if y-1 != -1: vals.append([x,y-1])\n",
    "    return vals\n",
    "    \n",
    "def isLowest(hmap, x, y):\n",
    "    return min([hmap[tx][ty] for tx,ty in getAdjacentLocs(hmap,x,y)]) > hmap[x][y]\n",
    "    \n",
    "l_values = []\n",
    "l_points = []\n",
    "for tx in range(len(heightmap)):\n",
    "    for ty in range(len(heightmap[0])):\n",
    "        if isLowest(heightmap, tx, ty):\n",
    "            l_points.append([tx,ty])\n",
    "            l_values.append(heightmap[tx][ty]+1)\n",
    "\n",
    "sum(l_values)"
   ]
  },
  {
   "cell_type": "markdown",
   "id": "73c3367e-a0ce-4d69-aeab-ecd66efd22d2",
   "metadata": {},
   "source": [
    "### Part 2"
   ]
  },
  {
   "cell_type": "code",
   "execution_count": 24,
   "id": "d12038d0-d06a-45b6-b601-10f8ef77ba6e",
   "metadata": {},
   "outputs": [
    {
     "data": {
      "text/plain": [
       "1148965"
      ]
     },
     "execution_count": 24,
     "metadata": {},
     "output_type": "execute_result"
    }
   ],
   "source": [
    "def findBasin(hmap, x, y):\n",
    "    to_visit = getAdjacentLocs(hmap, x, y)\n",
    "    visited = [[x,y]]\n",
    "    basin = [[x,y]]\n",
    "    \n",
    "    while len(to_visit) > 0:\n",
    "        tx,ty = to_visit.pop(0)\n",
    "        visited.append([tx,ty])\n",
    "        if(hmap[tx][ty] == 9):\n",
    "            continue\n",
    "        basin.append([tx,ty])\n",
    "        to_add = [[ax,ay] for ax,ay in getAdjacentLocs(hmap, tx, ty) if [ax,ay] not in visited+to_visit]\n",
    "        to_visit += to_add\n",
    "    return basin\n",
    "\n",
    "lengths = [len(findBasin(heightmap, x, y)) for x,y in l_points]\n",
    "lengths.sort(reverse=True)\n",
    "lengths[0]*lengths[1]*lengths[2]"
   ]
  },
  {
   "cell_type": "markdown",
   "id": "87210649-3fdd-43be-bffa-4c0e482ef06b",
   "metadata": {},
   "source": [
    "---\n",
    "### Day 10 - Part 1"
   ]
  },
  {
   "cell_type": "code",
   "execution_count": 25,
   "id": "b128e417-5ccd-407b-a483-f6d28c21c7c4",
   "metadata": {},
   "outputs": [
    {
     "data": {
      "text/plain": [
       "290691"
      ]
     },
     "execution_count": 25,
     "metadata": {},
     "output_type": "execute_result"
    }
   ],
   "source": [
    "lines = inputForDay(10).split(\"\\n\")\n",
    "\n",
    "rules = {']':'[',')':'(', '}':'{', '>':'<'}\n",
    "score_table = {')':3, '>':25137, ']':57, '}':1197}\n",
    "\n",
    "def getIllegalChar(line):\n",
    "    expect = []\n",
    "    for char in line:\n",
    "        if char in rules.values():\n",
    "            expect.insert(0, char)\n",
    "        elif rules[char] != expect.pop(0):\n",
    "            return char\n",
    "\n",
    "score = 0\n",
    "good_lines = []\n",
    "for l in lines:\n",
    "    if c := getIllegalChar(l):\n",
    "        score += score_table[c]\n",
    "    else:\n",
    "        good_lines.append(l)\n",
    "score"
   ]
  },
  {
   "cell_type": "markdown",
   "id": "4d0ee8c6-2f17-4aeb-af6e-1aa1e7691062",
   "metadata": {},
   "source": [
    "### Part 2"
   ]
  },
  {
   "cell_type": "code",
   "execution_count": 26,
   "id": "f1cec399-89cc-40a9-b512-e72fb53c408c",
   "metadata": {},
   "outputs": [
    {
     "data": {
      "text/plain": [
       "2768166558"
      ]
     },
     "execution_count": 26,
     "metadata": {},
     "output_type": "execute_result"
    }
   ],
   "source": [
    "rules_r = {b:a for a,b in rules.items()}\n",
    "\n",
    "def fixLine(line):\n",
    "    expect = []\n",
    "    for char in line:\n",
    "        if char in rules_r.keys():\n",
    "            expect.append(char)\n",
    "        else:\n",
    "            expect = expect[:-1]\n",
    "    expect.reverse()\n",
    "    return [rules_r[x] for x in expect]\n",
    "\n",
    "def scoreFix(fix):\n",
    "    score = 0\n",
    "    for c in fix:\n",
    "        score = score*5+{\")\":1,\"]\":2,\"}\":3,\">\":4}[c]\n",
    "    return score\n",
    "\n",
    "fscores = [scoreFix(fixLine(l)) for l in good_lines]\n",
    "fscores.sort()\n",
    "fscores[len(fscores)//2]"
   ]
  },
  {
   "cell_type": "markdown",
   "id": "d0e49c45-7adf-4ba8-978d-ab973462ac5d",
   "metadata": {},
   "source": [
    "---\n",
    "### Day 11 - Part 1"
   ]
  },
  {
   "cell_type": "code",
   "execution_count": 27,
   "id": "52f75948-fdf4-4213-8aed-9fd13002e30a",
   "metadata": {},
   "outputs": [
    {
     "data": {
      "text/plain": [
       "1669"
      ]
     },
     "execution_count": 27,
     "metadata": {},
     "output_type": "execute_result"
    }
   ],
   "source": [
    "import numpy as np\n",
    "\n",
    "positions = np.array([[int(y) for y in x] for x in inputForDay(11).split(\"\\n\")])\n",
    "\n",
    "def flash(positions, x, y):\n",
    "    for tx in range(x-1 if x > 0 else x, x+2 if x < 9 else x+1): \n",
    "        for ty in range(y-1 if y > 0 else y, y+2 if y < 9 else y+1): \n",
    "            positions[tx,ty] += 1 if positions[tx,ty] != 10 else 0\n",
    "    return positions\n",
    "    \n",
    "def computeStep(positions):\n",
    "    positions += 1\n",
    "    stepflashes = 0\n",
    "    while 10 in positions:\n",
    "        exactly10 = np.argwhere(positions == 10)\n",
    "        positions[positions == 10] = 11\n",
    "        for pos in exactly10:\n",
    "            positions = flash(positions, *pos)\n",
    "            \n",
    "    stepflashes += sum(sum(positions >= 10))\n",
    "    positions[positions >= 10] = 0\n",
    "    return positions, stepflashes\n",
    "\n",
    "total_f = 0\n",
    "for _ in range(100):\n",
    "    positions, flashes = computeStep(positions)\n",
    "    total_f+=flashes\n",
    "total_f"
   ]
  },
  {
   "cell_type": "markdown",
   "id": "633facc0-f702-40db-99ce-31135df27550",
   "metadata": {},
   "source": [
    "### Day 11 - Part 2"
   ]
  },
  {
   "cell_type": "code",
   "execution_count": 29,
   "id": "c0b1770d-2a0d-42e4-94d4-330e52e2bbe0",
   "metadata": {},
   "outputs": [
    {
     "data": {
      "text/plain": [
       "351"
      ]
     },
     "execution_count": 29,
     "metadata": {},
     "output_type": "execute_result"
    }
   ],
   "source": [
    "positions = np.array([[int(y) for y in x] for x in inputForDay(11).split(\"\\n\")])\n",
    "\n",
    "step = 0\n",
    "while True:\n",
    "    positions, flashes = computeStep(positions)\n",
    "    step += 1\n",
    "    if sum(sum(positions == 0)) == 100:\n",
    "        break\n",
    "step"
   ]
  },
  {
   "cell_type": "markdown",
   "id": "53b15df5-a8ba-4be2-8ea9-bce09678edcb",
   "metadata": {},
   "source": [
    "---\n",
    "### Day 12 - Part 1"
   ]
  },
  {
   "cell_type": "code",
   "execution_count": 30,
   "id": "543a6869-b290-440a-b420-ba557c4235dc",
   "metadata": {},
   "outputs": [
    {
     "data": {
      "text/plain": [
       "5178"
      ]
     },
     "execution_count": 30,
     "metadata": {},
     "output_type": "execute_result"
    }
   ],
   "source": [
    "from collections import defaultdict\n",
    "\n",
    "comps = [x.split(\"-\") for x in inputForDay(12).split(\"\\n\")]\n",
    "connections = defaultdict(lambda: set())\n",
    "for a,b in comps:\n",
    "    connections[a].add(b)\n",
    "    connections[b].add(a)\n",
    "    \n",
    "def getPaths(cave, smallCaveHandler=(lambda path:False)):\n",
    "    paths = 0\n",
    "    to_check = [[\"start\"]]\n",
    "    while to_check:\n",
    "        path = to_check.pop(-1)\n",
    "        for x in [c for c in cave[path[-1]] if c!=\"start\"]:\n",
    "            if x == \"end\":\n",
    "                paths += 1\n",
    "            elif x not in path or x.isupper() or smallCaveHandler(path):\n",
    "                to_check.append(path+[x])\n",
    "    return paths\n",
    "\n",
    "getPaths(connections)"
   ]
  },
  {
   "cell_type": "markdown",
   "id": "217528e4-bfce-40b3-8272-1637680300b1",
   "metadata": {},
   "source": [
    "### Part 2"
   ]
  },
  {
   "cell_type": "code",
   "execution_count": 31,
   "id": "60e37988-d2b6-42fa-b741-dd32124edc00",
   "metadata": {},
   "outputs": [
    {
     "data": {
      "text/plain": [
       "130094"
      ]
     },
     "execution_count": 31,
     "metadata": {},
     "output_type": "execute_result"
    }
   ],
   "source": [
    "handler = lambda path: not [x for x in set(path) if (x.islower() and path.count(x) == 2)]\n",
    "\n",
    "getPaths(connections, handler)"
   ]
  },
  {
   "cell_type": "markdown",
   "id": "a887826f-e530-46fd-a8f2-39cf6a8e7c20",
   "metadata": {},
   "source": [
    "---\n",
    "### Day 13 - Part 1"
   ]
  },
  {
   "cell_type": "code",
   "execution_count": 32,
   "id": "3a7a9979-fb9e-4d0c-aa12-7b8034a47bcb",
   "metadata": {},
   "outputs": [
    {
     "data": {
      "text/plain": [
       "755"
      ]
     },
     "execution_count": 32,
     "metadata": {},
     "output_type": "execute_result"
    }
   ],
   "source": [
    "pos, instructions = inputForDay(13).split(\"\\n\\n\")\n",
    "pos = [x.split(\",\") for x in pos.split(\"\\n\")]\n",
    "pos = {(int(a), int(b)) for a,b in pos}\n",
    "instructions = [x.split()[-1].split(\"=\") for x in instructions.split(\"\\n\")]\n",
    "    \n",
    "def handleInstruction(direction, line, pos):\n",
    "    new_pos = set()\n",
    "    folds = {'y':[1, lambda x,y,line: (x, y-abs(line-y)*2)], \n",
    "             'x':[0, lambda x,y,line: (x-abs(line-x)*2, y)]}\n",
    "    for p in pos:\n",
    "        if p[folds[direction][0]] == int(line):\n",
    "            continue\n",
    "        if p[folds[direction][0]] < int(line):\n",
    "            new_pos.add(p)\n",
    "        else:\n",
    "            new_pos.add(folds[direction][1](*p, int(line)))\n",
    "    return new_pos\n",
    "\n",
    "len(handleInstruction(*instructions[0], pos))"
   ]
  },
  {
   "cell_type": "markdown",
   "id": "e736deb7-51d4-423a-81ed-9e621390939f",
   "metadata": {},
   "source": [
    "### Part 2"
   ]
  },
  {
   "cell_type": "code",
   "execution_count": 33,
   "id": "6e48011a-fd24-48de-bc3d-e0b0bcf66f2a",
   "metadata": {},
   "outputs": [
    {
     "name": "stdout",
     "output_type": "stream",
     "text": [
      "■ ■ ■     ■         ■     ■       ■ ■   ■ ■ ■     ■ ■ ■       ■ ■       ■ ■  \n",
      "■     ■   ■         ■   ■           ■   ■     ■   ■     ■   ■     ■   ■     ■\n",
      "■ ■ ■     ■         ■ ■             ■   ■     ■   ■ ■ ■     ■     ■   ■      \n",
      "■     ■   ■         ■   ■           ■   ■ ■ ■     ■     ■   ■ ■ ■ ■   ■   ■ ■\n",
      "■     ■   ■         ■   ■     ■     ■   ■   ■     ■     ■   ■     ■   ■     ■\n",
      "■ ■ ■     ■ ■ ■ ■   ■     ■     ■ ■     ■     ■   ■ ■ ■     ■     ■     ■ ■ ■\n"
     ]
    }
   ],
   "source": [
    "import numpy\n",
    "\n",
    "def displayCode(pos, instructions):\n",
    "    for x in instructions:\n",
    "        pos = handleInstruction(*x, pos)\n",
    "    max_x = max([x for a,x in pos])+1\n",
    "    max_y = max([a for a,x in pos])+1\n",
    "    res = numpy.zeros((max_x,max_y))\n",
    "    for a,b in pos:\n",
    "        res[b,a] = 1 \n",
    "    for a in range(max_x):\n",
    "        print(\" \".join([\"■\" if x == 1 else \" \" for x in res[a]]))\n",
    "        \n",
    "displayCode(pos, instructions)"
   ]
  },
  {
   "cell_type": "code",
   "execution_count": null,
   "id": "dc5677d0-fe73-4366-9668-a23d34186342",
   "metadata": {},
   "outputs": [],
   "source": []
  },
  {
   "cell_type": "code",
   "execution_count": null,
   "id": "6a9f9de6-40c6-4267-a341-41542dc1a5d2",
   "metadata": {},
   "outputs": [],
   "source": []
  }
 ],
 "metadata": {
  "kernelspec": {
   "display_name": "Python 3",
   "language": "python",
   "name": "python3"
  },
  "language_info": {
   "codemirror_mode": {
    "name": "ipython",
    "version": 3
   },
   "file_extension": ".py",
   "mimetype": "text/x-python",
   "name": "python",
   "nbconvert_exporter": "python",
   "pygments_lexer": "ipython3",
   "version": "3.8.8"
  }
 },
 "nbformat": 4,
 "nbformat_minor": 5
}
